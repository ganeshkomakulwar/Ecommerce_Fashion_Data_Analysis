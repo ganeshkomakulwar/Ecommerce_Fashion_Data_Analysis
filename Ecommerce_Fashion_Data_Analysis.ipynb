{
 "cells": [
  {
   "cell_type": "code",
   "execution_count": null,
   "id": "45c3790c",
   "metadata": {},
   "outputs": [],
   "source": [
    "#Importing Required Libraries"
   ]
  },
  {
   "cell_type": "code",
   "execution_count": 1,
   "id": "8d9c046f",
   "metadata": {},
   "outputs": [],
   "source": [
    "import numpy as np\n",
    "import pandas as pd\n",
    "import matplotlib.pyplot as plt\n",
    "import seaborn as sns"
   ]
  },
  {
   "cell_type": "code",
   "execution_count": null,
   "id": "d0a08193",
   "metadata": {},
   "outputs": [],
   "source": [
    "#Reading CSV File"
   ]
  },
  {
   "cell_type": "code",
   "execution_count": 2,
   "id": "24b44d43",
   "metadata": {},
   "outputs": [
    {
     "data": {
      "text/plain": [
       "pandas.core.frame.DataFrame"
      ]
     },
     "execution_count": 2,
     "metadata": {},
     "output_type": "execute_result"
    }
   ],
   "source": [
    "data = pd.read_csv('FashionDataset.csv')\n",
    "type(data)"
   ]
  },
  {
   "cell_type": "code",
   "execution_count": null,
   "id": "0f0f8ad4",
   "metadata": {},
   "outputs": [],
   "source": [
    "#Display Top 10 Records From Data"
   ]
  },
  {
   "cell_type": "code",
   "execution_count": 3,
   "id": "0702c65e",
   "metadata": {},
   "outputs": [
    {
     "data": {
      "text/html": [
       "<div>\n",
       "<style scoped>\n",
       "    .dataframe tbody tr th:only-of-type {\n",
       "        vertical-align: middle;\n",
       "    }\n",
       "\n",
       "    .dataframe tbody tr th {\n",
       "        vertical-align: top;\n",
       "    }\n",
       "\n",
       "    .dataframe thead th {\n",
       "        text-align: right;\n",
       "    }\n",
       "</style>\n",
       "<table border=\"1\" class=\"dataframe\">\n",
       "  <thead>\n",
       "    <tr style=\"text-align: right;\">\n",
       "      <th></th>\n",
       "      <th>Unnamed: 0</th>\n",
       "      <th>BrandName</th>\n",
       "      <th>Deatils</th>\n",
       "      <th>Sizes</th>\n",
       "      <th>MRP</th>\n",
       "      <th>SellPrice</th>\n",
       "      <th>Discount</th>\n",
       "      <th>Category</th>\n",
       "    </tr>\n",
       "  </thead>\n",
       "  <tbody>\n",
       "    <tr>\n",
       "      <th>0</th>\n",
       "      <td>0</td>\n",
       "      <td>life</td>\n",
       "      <td>solid cotton blend collar neck womens a-line d...</td>\n",
       "      <td>Size:Large,Medium,Small,X-Large,X-Small</td>\n",
       "      <td>Rs\\n1699</td>\n",
       "      <td>849</td>\n",
       "      <td>50% off</td>\n",
       "      <td>Westernwear-Women</td>\n",
       "    </tr>\n",
       "    <tr>\n",
       "      <th>1</th>\n",
       "      <td>1</td>\n",
       "      <td>only</td>\n",
       "      <td>polyester peter pan collar womens blouson dres...</td>\n",
       "      <td>Size:34,36,38,40</td>\n",
       "      <td>Rs\\n3499</td>\n",
       "      <td>2449</td>\n",
       "      <td>30% off</td>\n",
       "      <td>Westernwear-Women</td>\n",
       "    </tr>\n",
       "    <tr>\n",
       "      <th>2</th>\n",
       "      <td>2</td>\n",
       "      <td>fratini</td>\n",
       "      <td>solid polyester blend wide neck womens regular...</td>\n",
       "      <td>Size:Large,X-Large,XX-Large</td>\n",
       "      <td>Rs\\n1199</td>\n",
       "      <td>599</td>\n",
       "      <td>50% off</td>\n",
       "      <td>Westernwear-Women</td>\n",
       "    </tr>\n",
       "    <tr>\n",
       "      <th>3</th>\n",
       "      <td>3</td>\n",
       "      <td>zink london</td>\n",
       "      <td>stripes polyester sweetheart neck womens dress...</td>\n",
       "      <td>Size:Large,Medium,Small,X-Large</td>\n",
       "      <td>Rs\\n2299</td>\n",
       "      <td>1379</td>\n",
       "      <td>40% off</td>\n",
       "      <td>Westernwear-Women</td>\n",
       "    </tr>\n",
       "    <tr>\n",
       "      <th>4</th>\n",
       "      <td>4</td>\n",
       "      <td>life</td>\n",
       "      <td>regular fit regular length denim womens jeans ...</td>\n",
       "      <td>Size:26,28,30,32,34,36</td>\n",
       "      <td>Rs\\n1699</td>\n",
       "      <td>849</td>\n",
       "      <td>50% off</td>\n",
       "      <td>Westernwear-Women</td>\n",
       "    </tr>\n",
       "    <tr>\n",
       "      <th>5</th>\n",
       "      <td>5</td>\n",
       "      <td>kraus</td>\n",
       "      <td>wide ankle length cotton womens jeans - light ...</td>\n",
       "      <td>Size:26,28,30,32,34</td>\n",
       "      <td>Rs\\n1795</td>\n",
       "      <td>1615</td>\n",
       "      <td>10% off</td>\n",
       "      <td>Westernwear-Women</td>\n",
       "    </tr>\n",
       "    <tr>\n",
       "      <th>6</th>\n",
       "      <td>6</td>\n",
       "      <td>life</td>\n",
       "      <td>printed cotton blend collared womens regular d...</td>\n",
       "      <td>Size:Large,Medium,Small,X-Large,X-Small</td>\n",
       "      <td>Rs\\n1299</td>\n",
       "      <td>649</td>\n",
       "      <td>50% off</td>\n",
       "      <td>Westernwear-Women</td>\n",
       "    </tr>\n",
       "    <tr>\n",
       "      <th>7</th>\n",
       "      <td>7</td>\n",
       "      <td>fratini</td>\n",
       "      <td>embroidered wide neck polyester womens regular...</td>\n",
       "      <td>Size:XX-Large</td>\n",
       "      <td>Rs\\n1299</td>\n",
       "      <td>649</td>\n",
       "      <td>50% off</td>\n",
       "      <td>Westernwear-Women</td>\n",
       "    </tr>\n",
       "    <tr>\n",
       "      <th>8</th>\n",
       "      <td>8</td>\n",
       "      <td>rare</td>\n",
       "      <td>floral polyester v neck womens flared dress - ...</td>\n",
       "      <td>Size:Large,Medium,Small,X-Large</td>\n",
       "      <td>Rs\\n2099</td>\n",
       "      <td>839</td>\n",
       "      <td>60% off</td>\n",
       "      <td>Westernwear-Women</td>\n",
       "    </tr>\n",
       "    <tr>\n",
       "      <th>9</th>\n",
       "      <td>9</td>\n",
       "      <td>rare</td>\n",
       "      <td>checks cotton boat neck womens regular top - b...</td>\n",
       "      <td>Size:Medium,Small,X-Large</td>\n",
       "      <td>Rs\\n1499</td>\n",
       "      <td>599</td>\n",
       "      <td>60% off</td>\n",
       "      <td>Westernwear-Women</td>\n",
       "    </tr>\n",
       "  </tbody>\n",
       "</table>\n",
       "</div>"
      ],
      "text/plain": [
       "   Unnamed: 0    BrandName                                            Deatils  \\\n",
       "0           0         life  solid cotton blend collar neck womens a-line d...   \n",
       "1           1         only  polyester peter pan collar womens blouson dres...   \n",
       "2           2      fratini  solid polyester blend wide neck womens regular...   \n",
       "3           3  zink london  stripes polyester sweetheart neck womens dress...   \n",
       "4           4         life  regular fit regular length denim womens jeans ...   \n",
       "5           5        kraus  wide ankle length cotton womens jeans - light ...   \n",
       "6           6         life  printed cotton blend collared womens regular d...   \n",
       "7           7      fratini  embroidered wide neck polyester womens regular...   \n",
       "8           8         rare  floral polyester v neck womens flared dress - ...   \n",
       "9           9         rare  checks cotton boat neck womens regular top - b...   \n",
       "\n",
       "                                     Sizes       MRP SellPrice Discount  \\\n",
       "0  Size:Large,Medium,Small,X-Large,X-Small  Rs\\n1699       849  50% off   \n",
       "1                         Size:34,36,38,40  Rs\\n3499      2449  30% off   \n",
       "2              Size:Large,X-Large,XX-Large  Rs\\n1199       599  50% off   \n",
       "3          Size:Large,Medium,Small,X-Large  Rs\\n2299      1379  40% off   \n",
       "4                   Size:26,28,30,32,34,36  Rs\\n1699       849  50% off   \n",
       "5                      Size:26,28,30,32,34  Rs\\n1795      1615  10% off   \n",
       "6  Size:Large,Medium,Small,X-Large,X-Small  Rs\\n1299       649  50% off   \n",
       "7                            Size:XX-Large  Rs\\n1299       649  50% off   \n",
       "8          Size:Large,Medium,Small,X-Large  Rs\\n2099       839  60% off   \n",
       "9                Size:Medium,Small,X-Large  Rs\\n1499       599  60% off   \n",
       "\n",
       "            Category  \n",
       "0  Westernwear-Women  \n",
       "1  Westernwear-Women  \n",
       "2  Westernwear-Women  \n",
       "3  Westernwear-Women  \n",
       "4  Westernwear-Women  \n",
       "5  Westernwear-Women  \n",
       "6  Westernwear-Women  \n",
       "7  Westernwear-Women  \n",
       "8  Westernwear-Women  \n",
       "9  Westernwear-Women  "
      ]
     },
     "execution_count": 3,
     "metadata": {},
     "output_type": "execute_result"
    }
   ],
   "source": [
    "data.head(10)"
   ]
  },
  {
   "cell_type": "code",
   "execution_count": null,
   "id": "a0113ce4",
   "metadata": {},
   "outputs": [],
   "source": [
    "#Display Last 10 Records From Data"
   ]
  },
  {
   "cell_type": "code",
   "execution_count": 4,
   "id": "5f216600",
   "metadata": {},
   "outputs": [
    {
     "data": {
      "text/html": [
       "<div>\n",
       "<style scoped>\n",
       "    .dataframe tbody tr th:only-of-type {\n",
       "        vertical-align: middle;\n",
       "    }\n",
       "\n",
       "    .dataframe tbody tr th {\n",
       "        vertical-align: top;\n",
       "    }\n",
       "\n",
       "    .dataframe thead th {\n",
       "        text-align: right;\n",
       "    }\n",
       "</style>\n",
       "<table border=\"1\" class=\"dataframe\">\n",
       "  <thead>\n",
       "    <tr style=\"text-align: right;\">\n",
       "      <th></th>\n",
       "      <th>Unnamed: 0</th>\n",
       "      <th>BrandName</th>\n",
       "      <th>Deatils</th>\n",
       "      <th>Sizes</th>\n",
       "      <th>MRP</th>\n",
       "      <th>SellPrice</th>\n",
       "      <th>Discount</th>\n",
       "      <th>Category</th>\n",
       "    </tr>\n",
       "  </thead>\n",
       "  <tbody>\n",
       "    <tr>\n",
       "      <th>30748</th>\n",
       "      <td>16</td>\n",
       "      <td>jewelz</td>\n",
       "      <td>nine pieces combo fashion non-precious metal b...</td>\n",
       "      <td>Nan</td>\n",
       "      <td>Rs\\n1339</td>\n",
       "      <td>468</td>\n",
       "      <td>65% off</td>\n",
       "      <td>Jewellery-Women</td>\n",
       "    </tr>\n",
       "    <tr>\n",
       "      <th>30749</th>\n",
       "      <td>17</td>\n",
       "      <td>pretty women</td>\n",
       "      <td>womens pearl golden drops</td>\n",
       "      <td>Nan</td>\n",
       "      <td>Rs\\n449</td>\n",
       "      <td>381</td>\n",
       "      <td>15% off</td>\n",
       "      <td>Jewellery-Women</td>\n",
       "    </tr>\n",
       "    <tr>\n",
       "      <th>30750</th>\n",
       "      <td>18</td>\n",
       "      <td>tribe amrapali</td>\n",
       "      <td>sterling silver oval turquoise ear studs</td>\n",
       "      <td>Nan</td>\n",
       "      <td>Nan</td>\n",
       "      <td>1030</td>\n",
       "      <td>Nan</td>\n",
       "      <td>Jewellery-Women</td>\n",
       "    </tr>\n",
       "    <tr>\n",
       "      <th>30751</th>\n",
       "      <td>19</td>\n",
       "      <td>swarovski</td>\n",
       "      <td>constella stylish crystal white pierced earrings</td>\n",
       "      <td>Nan</td>\n",
       "      <td>Nan</td>\n",
       "      <td>8950</td>\n",
       "      <td>Nan</td>\n",
       "      <td>Jewellery-Women</td>\n",
       "    </tr>\n",
       "    <tr>\n",
       "      <th>30752</th>\n",
       "      <td>20</td>\n",
       "      <td>shaya by caratlane</td>\n",
       "      <td>the wing woman clover charm necklace</td>\n",
       "      <td>Nan</td>\n",
       "      <td>Nan</td>\n",
       "      <td>1250</td>\n",
       "      <td>Nan</td>\n",
       "      <td>Jewellery-Women</td>\n",
       "    </tr>\n",
       "    <tr>\n",
       "      <th>30753</th>\n",
       "      <td>21</td>\n",
       "      <td>swarovski</td>\n",
       "      <td>crystal stylish womens rodhium earrings</td>\n",
       "      <td>Nan</td>\n",
       "      <td>Nan</td>\n",
       "      <td>8950</td>\n",
       "      <td>Nan</td>\n",
       "      <td>Jewellery-Women</td>\n",
       "    </tr>\n",
       "    <tr>\n",
       "      <th>30754</th>\n",
       "      <td>22</td>\n",
       "      <td>Nan</td>\n",
       "      <td>Nan</td>\n",
       "      <td>Nan</td>\n",
       "      <td>Nan</td>\n",
       "      <td>Nan</td>\n",
       "      <td>Nan</td>\n",
       "      <td>Jewellery-Women</td>\n",
       "    </tr>\n",
       "    <tr>\n",
       "      <th>30755</th>\n",
       "      <td>23</td>\n",
       "      <td>jewelz</td>\n",
       "      <td>ethnic gold plated jhumki earrings</td>\n",
       "      <td>Nan</td>\n",
       "      <td>Rs\\n1839</td>\n",
       "      <td>643</td>\n",
       "      <td>65% off</td>\n",
       "      <td>Jewellery-Women</td>\n",
       "    </tr>\n",
       "    <tr>\n",
       "      <th>30756</th>\n",
       "      <td>24</td>\n",
       "      <td>estelle</td>\n",
       "      <td>womens gold plated double line fancy white and...</td>\n",
       "      <td>Nan</td>\n",
       "      <td>Nan</td>\n",
       "      <td>2799</td>\n",
       "      <td>Nan</td>\n",
       "      <td>Jewellery-Women</td>\n",
       "    </tr>\n",
       "    <tr>\n",
       "      <th>30757</th>\n",
       "      <td>25</td>\n",
       "      <td>estelle</td>\n",
       "      <td>womens gold plated bridge designer mangalsutra...</td>\n",
       "      <td>Nan</td>\n",
       "      <td>Nan</td>\n",
       "      <td>1899</td>\n",
       "      <td>Nan</td>\n",
       "      <td>Jewellery-Women</td>\n",
       "    </tr>\n",
       "  </tbody>\n",
       "</table>\n",
       "</div>"
      ],
      "text/plain": [
       "       Unnamed: 0           BrandName  \\\n",
       "30748          16              jewelz   \n",
       "30749          17        pretty women   \n",
       "30750          18      tribe amrapali   \n",
       "30751          19           swarovski   \n",
       "30752          20  shaya by caratlane   \n",
       "30753          21           swarovski   \n",
       "30754          22                 Nan   \n",
       "30755          23              jewelz   \n",
       "30756          24             estelle   \n",
       "30757          25             estelle   \n",
       "\n",
       "                                                 Deatils Sizes       MRP  \\\n",
       "30748  nine pieces combo fashion non-precious metal b...   Nan  Rs\\n1339   \n",
       "30749                          womens pearl golden drops   Nan   Rs\\n449   \n",
       "30750           sterling silver oval turquoise ear studs   Nan       Nan   \n",
       "30751   constella stylish crystal white pierced earrings   Nan       Nan   \n",
       "30752               the wing woman clover charm necklace   Nan       Nan   \n",
       "30753            crystal stylish womens rodhium earrings   Nan       Nan   \n",
       "30754                                                Nan   Nan       Nan   \n",
       "30755                 ethnic gold plated jhumki earrings   Nan  Rs\\n1839   \n",
       "30756  womens gold plated double line fancy white and...   Nan       Nan   \n",
       "30757  womens gold plated bridge designer mangalsutra...   Nan       Nan   \n",
       "\n",
       "      SellPrice Discount         Category  \n",
       "30748       468  65% off  Jewellery-Women  \n",
       "30749       381  15% off  Jewellery-Women  \n",
       "30750      1030      Nan  Jewellery-Women  \n",
       "30751      8950      Nan  Jewellery-Women  \n",
       "30752      1250      Nan  Jewellery-Women  \n",
       "30753      8950      Nan  Jewellery-Women  \n",
       "30754       Nan      Nan  Jewellery-Women  \n",
       "30755       643  65% off  Jewellery-Women  \n",
       "30756      2799      Nan  Jewellery-Women  \n",
       "30757      1899      Nan  Jewellery-Women  "
      ]
     },
     "execution_count": 4,
     "metadata": {},
     "output_type": "execute_result"
    }
   ],
   "source": [
    "data.tail(10)"
   ]
  },
  {
   "cell_type": "code",
   "execution_count": null,
   "id": "ee47c448",
   "metadata": {},
   "outputs": [],
   "source": [
    "#Shape Of The Data Set"
   ]
  },
  {
   "cell_type": "code",
   "execution_count": 5,
   "id": "ac5444d8",
   "metadata": {},
   "outputs": [
    {
     "data": {
      "text/plain": [
       "(30758, 8)"
      ]
     },
     "execution_count": 5,
     "metadata": {},
     "output_type": "execute_result"
    }
   ],
   "source": [
    "data.shape"
   ]
  },
  {
   "cell_type": "code",
   "execution_count": null,
   "id": "1932551a",
   "metadata": {},
   "outputs": [],
   "source": [
    "#Display All The Columns Of The Data"
   ]
  },
  {
   "cell_type": "code",
   "execution_count": 6,
   "id": "c99b534c",
   "metadata": {},
   "outputs": [
    {
     "data": {
      "text/plain": [
       "Index(['Unnamed: 0', 'BrandName', 'Deatils', 'Sizes', 'MRP', 'SellPrice',\n",
       "       'Discount', 'Category'],\n",
       "      dtype='object')"
      ]
     },
     "execution_count": 6,
     "metadata": {},
     "output_type": "execute_result"
    }
   ],
   "source": [
    "data.columns"
   ]
  },
  {
   "cell_type": "code",
   "execution_count": null,
   "id": "c1bdf0ac",
   "metadata": {},
   "outputs": [],
   "source": [
    "#Display Datatype Of Dataset Columns"
   ]
  },
  {
   "cell_type": "code",
   "execution_count": 9,
   "id": "aa44556f",
   "metadata": {},
   "outputs": [
    {
     "data": {
      "text/plain": [
       "Unnamed: 0     int64\n",
       "BrandName     object\n",
       "Deatils       object\n",
       "Sizes         object\n",
       "MRP           object\n",
       "SellPrice     object\n",
       "Discount      object\n",
       "Category      object\n",
       "dtype: object"
      ]
     },
     "execution_count": 9,
     "metadata": {},
     "output_type": "execute_result"
    }
   ],
   "source": [
    "data.dtypes"
   ]
  },
  {
   "cell_type": "code",
   "execution_count": null,
   "id": "5f64b4e0",
   "metadata": {},
   "outputs": [],
   "source": [
    "#Droing Unnamed: 0 Column From Data"
   ]
  },
  {
   "cell_type": "code",
   "execution_count": 10,
   "id": "e841f07c",
   "metadata": {},
   "outputs": [
    {
     "data": {
      "text/html": [
       "<div>\n",
       "<style scoped>\n",
       "    .dataframe tbody tr th:only-of-type {\n",
       "        vertical-align: middle;\n",
       "    }\n",
       "\n",
       "    .dataframe tbody tr th {\n",
       "        vertical-align: top;\n",
       "    }\n",
       "\n",
       "    .dataframe thead th {\n",
       "        text-align: right;\n",
       "    }\n",
       "</style>\n",
       "<table border=\"1\" class=\"dataframe\">\n",
       "  <thead>\n",
       "    <tr style=\"text-align: right;\">\n",
       "      <th></th>\n",
       "      <th>BrandName</th>\n",
       "      <th>Deatils</th>\n",
       "      <th>Sizes</th>\n",
       "      <th>MRP</th>\n",
       "      <th>SellPrice</th>\n",
       "      <th>Discount</th>\n",
       "      <th>Category</th>\n",
       "    </tr>\n",
       "  </thead>\n",
       "  <tbody>\n",
       "    <tr>\n",
       "      <th>0</th>\n",
       "      <td>life</td>\n",
       "      <td>solid cotton blend collar neck womens a-line d...</td>\n",
       "      <td>Size:Large,Medium,Small,X-Large,X-Small</td>\n",
       "      <td>Rs\\n1699</td>\n",
       "      <td>849</td>\n",
       "      <td>50% off</td>\n",
       "      <td>Westernwear-Women</td>\n",
       "    </tr>\n",
       "    <tr>\n",
       "      <th>1</th>\n",
       "      <td>only</td>\n",
       "      <td>polyester peter pan collar womens blouson dres...</td>\n",
       "      <td>Size:34,36,38,40</td>\n",
       "      <td>Rs\\n3499</td>\n",
       "      <td>2449</td>\n",
       "      <td>30% off</td>\n",
       "      <td>Westernwear-Women</td>\n",
       "    </tr>\n",
       "    <tr>\n",
       "      <th>2</th>\n",
       "      <td>fratini</td>\n",
       "      <td>solid polyester blend wide neck womens regular...</td>\n",
       "      <td>Size:Large,X-Large,XX-Large</td>\n",
       "      <td>Rs\\n1199</td>\n",
       "      <td>599</td>\n",
       "      <td>50% off</td>\n",
       "      <td>Westernwear-Women</td>\n",
       "    </tr>\n",
       "    <tr>\n",
       "      <th>3</th>\n",
       "      <td>zink london</td>\n",
       "      <td>stripes polyester sweetheart neck womens dress...</td>\n",
       "      <td>Size:Large,Medium,Small,X-Large</td>\n",
       "      <td>Rs\\n2299</td>\n",
       "      <td>1379</td>\n",
       "      <td>40% off</td>\n",
       "      <td>Westernwear-Women</td>\n",
       "    </tr>\n",
       "    <tr>\n",
       "      <th>4</th>\n",
       "      <td>life</td>\n",
       "      <td>regular fit regular length denim womens jeans ...</td>\n",
       "      <td>Size:26,28,30,32,34,36</td>\n",
       "      <td>Rs\\n1699</td>\n",
       "      <td>849</td>\n",
       "      <td>50% off</td>\n",
       "      <td>Westernwear-Women</td>\n",
       "    </tr>\n",
       "    <tr>\n",
       "      <th>5</th>\n",
       "      <td>kraus</td>\n",
       "      <td>wide ankle length cotton womens jeans - light ...</td>\n",
       "      <td>Size:26,28,30,32,34</td>\n",
       "      <td>Rs\\n1795</td>\n",
       "      <td>1615</td>\n",
       "      <td>10% off</td>\n",
       "      <td>Westernwear-Women</td>\n",
       "    </tr>\n",
       "    <tr>\n",
       "      <th>6</th>\n",
       "      <td>life</td>\n",
       "      <td>printed cotton blend collared womens regular d...</td>\n",
       "      <td>Size:Large,Medium,Small,X-Large,X-Small</td>\n",
       "      <td>Rs\\n1299</td>\n",
       "      <td>649</td>\n",
       "      <td>50% off</td>\n",
       "      <td>Westernwear-Women</td>\n",
       "    </tr>\n",
       "    <tr>\n",
       "      <th>7</th>\n",
       "      <td>fratini</td>\n",
       "      <td>embroidered wide neck polyester womens regular...</td>\n",
       "      <td>Size:XX-Large</td>\n",
       "      <td>Rs\\n1299</td>\n",
       "      <td>649</td>\n",
       "      <td>50% off</td>\n",
       "      <td>Westernwear-Women</td>\n",
       "    </tr>\n",
       "    <tr>\n",
       "      <th>8</th>\n",
       "      <td>rare</td>\n",
       "      <td>floral polyester v neck womens flared dress - ...</td>\n",
       "      <td>Size:Large,Medium,Small,X-Large</td>\n",
       "      <td>Rs\\n2099</td>\n",
       "      <td>839</td>\n",
       "      <td>60% off</td>\n",
       "      <td>Westernwear-Women</td>\n",
       "    </tr>\n",
       "    <tr>\n",
       "      <th>9</th>\n",
       "      <td>rare</td>\n",
       "      <td>checks cotton boat neck womens regular top - b...</td>\n",
       "      <td>Size:Medium,Small,X-Large</td>\n",
       "      <td>Rs\\n1499</td>\n",
       "      <td>599</td>\n",
       "      <td>60% off</td>\n",
       "      <td>Westernwear-Women</td>\n",
       "    </tr>\n",
       "  </tbody>\n",
       "</table>\n",
       "</div>"
      ],
      "text/plain": [
       "     BrandName                                            Deatils  \\\n",
       "0         life  solid cotton blend collar neck womens a-line d...   \n",
       "1         only  polyester peter pan collar womens blouson dres...   \n",
       "2      fratini  solid polyester blend wide neck womens regular...   \n",
       "3  zink london  stripes polyester sweetheart neck womens dress...   \n",
       "4         life  regular fit regular length denim womens jeans ...   \n",
       "5        kraus  wide ankle length cotton womens jeans - light ...   \n",
       "6         life  printed cotton blend collared womens regular d...   \n",
       "7      fratini  embroidered wide neck polyester womens regular...   \n",
       "8         rare  floral polyester v neck womens flared dress - ...   \n",
       "9         rare  checks cotton boat neck womens regular top - b...   \n",
       "\n",
       "                                     Sizes       MRP SellPrice Discount  \\\n",
       "0  Size:Large,Medium,Small,X-Large,X-Small  Rs\\n1699       849  50% off   \n",
       "1                         Size:34,36,38,40  Rs\\n3499      2449  30% off   \n",
       "2              Size:Large,X-Large,XX-Large  Rs\\n1199       599  50% off   \n",
       "3          Size:Large,Medium,Small,X-Large  Rs\\n2299      1379  40% off   \n",
       "4                   Size:26,28,30,32,34,36  Rs\\n1699       849  50% off   \n",
       "5                      Size:26,28,30,32,34  Rs\\n1795      1615  10% off   \n",
       "6  Size:Large,Medium,Small,X-Large,X-Small  Rs\\n1299       649  50% off   \n",
       "7                            Size:XX-Large  Rs\\n1299       649  50% off   \n",
       "8          Size:Large,Medium,Small,X-Large  Rs\\n2099       839  60% off   \n",
       "9                Size:Medium,Small,X-Large  Rs\\n1499       599  60% off   \n",
       "\n",
       "            Category  \n",
       "0  Westernwear-Women  \n",
       "1  Westernwear-Women  \n",
       "2  Westernwear-Women  \n",
       "3  Westernwear-Women  \n",
       "4  Westernwear-Women  \n",
       "5  Westernwear-Women  \n",
       "6  Westernwear-Women  \n",
       "7  Westernwear-Women  \n",
       "8  Westernwear-Women  \n",
       "9  Westernwear-Women  "
      ]
     },
     "execution_count": 10,
     "metadata": {},
     "output_type": "execute_result"
    }
   ],
   "source": [
    "data.drop(columns=['Unnamed: 0'],inplace=True)\n",
    "data.head(10)"
   ]
  },
  {
   "cell_type": "code",
   "execution_count": null,
   "id": "7a16f641",
   "metadata": {},
   "outputs": [],
   "source": [
    "#Finding Missing Value In The Data "
   ]
  },
  {
   "cell_type": "code",
   "execution_count": 11,
   "id": "553bd0a9",
   "metadata": {},
   "outputs": [
    {
     "data": {
      "text/plain": [
       "BrandName    0\n",
       "Deatils      0\n",
       "Sizes        0\n",
       "MRP          0\n",
       "SellPrice    0\n",
       "Discount     0\n",
       "Category     0\n",
       "dtype: int64"
      ]
     },
     "execution_count": 11,
     "metadata": {},
     "output_type": "execute_result"
    }
   ],
   "source": [
    "data.isnull().sum()"
   ]
  },
  {
   "cell_type": "code",
   "execution_count": null,
   "id": "ca16c59d",
   "metadata": {},
   "outputs": [],
   "source": [
    "#Statistical Analysis Of Data"
   ]
  },
  {
   "cell_type": "code",
   "execution_count": 13,
   "id": "bd964c6c",
   "metadata": {},
   "outputs": [
    {
     "data": {
      "text/html": [
       "<div>\n",
       "<style scoped>\n",
       "    .dataframe tbody tr th:only-of-type {\n",
       "        vertical-align: middle;\n",
       "    }\n",
       "\n",
       "    .dataframe tbody tr th {\n",
       "        vertical-align: top;\n",
       "    }\n",
       "\n",
       "    .dataframe thead th {\n",
       "        text-align: right;\n",
       "    }\n",
       "</style>\n",
       "<table border=\"1\" class=\"dataframe\">\n",
       "  <thead>\n",
       "    <tr style=\"text-align: right;\">\n",
       "      <th></th>\n",
       "      <th>BrandName</th>\n",
       "      <th>Deatils</th>\n",
       "      <th>Sizes</th>\n",
       "      <th>MRP</th>\n",
       "      <th>SellPrice</th>\n",
       "      <th>Discount</th>\n",
       "      <th>Category</th>\n",
       "    </tr>\n",
       "  </thead>\n",
       "  <tbody>\n",
       "    <tr>\n",
       "      <th>count</th>\n",
       "      <td>30758</td>\n",
       "      <td>30758</td>\n",
       "      <td>30758</td>\n",
       "      <td>30758</td>\n",
       "      <td>30758</td>\n",
       "      <td>30758</td>\n",
       "      <td>30758</td>\n",
       "    </tr>\n",
       "    <tr>\n",
       "      <th>unique</th>\n",
       "      <td>275</td>\n",
       "      <td>23877</td>\n",
       "      <td>1172</td>\n",
       "      <td>1097</td>\n",
       "      <td>2046</td>\n",
       "      <td>66</td>\n",
       "      <td>7</td>\n",
       "    </tr>\n",
       "    <tr>\n",
       "      <th>top</th>\n",
       "      <td>vastranand</td>\n",
       "      <td>Nan</td>\n",
       "      <td>Nan</td>\n",
       "      <td>Nan</td>\n",
       "      <td>Nan</td>\n",
       "      <td>Nan</td>\n",
       "      <td>Westernwear-Women</td>\n",
       "    </tr>\n",
       "    <tr>\n",
       "      <th>freq</th>\n",
       "      <td>1543</td>\n",
       "      <td>1183</td>\n",
       "      <td>7501</td>\n",
       "      <td>8208</td>\n",
       "      <td>1183</td>\n",
       "      <td>8208</td>\n",
       "      <td>10374</td>\n",
       "    </tr>\n",
       "  </tbody>\n",
       "</table>\n",
       "</div>"
      ],
      "text/plain": [
       "         BrandName Deatils  Sizes    MRP SellPrice Discount           Category\n",
       "count        30758   30758  30758  30758     30758    30758              30758\n",
       "unique         275   23877   1172   1097      2046       66                  7\n",
       "top     vastranand     Nan    Nan    Nan       Nan      Nan  Westernwear-Women\n",
       "freq          1543    1183   7501   8208      1183     8208              10374"
      ]
     },
     "execution_count": 13,
     "metadata": {},
     "output_type": "execute_result"
    }
   ],
   "source": [
    "data.describe()"
   ]
  },
  {
   "cell_type": "code",
   "execution_count": null,
   "id": "1ecf4e91",
   "metadata": {},
   "outputs": [],
   "source": [
    "#Removing Rs\\n From Column And Replacing It"
   ]
  },
  {
   "cell_type": "code",
   "execution_count": 14,
   "id": "1598f29f",
   "metadata": {},
   "outputs": [
    {
     "data": {
      "text/html": [
       "<div>\n",
       "<style scoped>\n",
       "    .dataframe tbody tr th:only-of-type {\n",
       "        vertical-align: middle;\n",
       "    }\n",
       "\n",
       "    .dataframe tbody tr th {\n",
       "        vertical-align: top;\n",
       "    }\n",
       "\n",
       "    .dataframe thead th {\n",
       "        text-align: right;\n",
       "    }\n",
       "</style>\n",
       "<table border=\"1\" class=\"dataframe\">\n",
       "  <thead>\n",
       "    <tr style=\"text-align: right;\">\n",
       "      <th></th>\n",
       "      <th>BrandName</th>\n",
       "      <th>Deatils</th>\n",
       "      <th>Sizes</th>\n",
       "      <th>MRP</th>\n",
       "      <th>SellPrice</th>\n",
       "      <th>Discount</th>\n",
       "      <th>Category</th>\n",
       "    </tr>\n",
       "  </thead>\n",
       "  <tbody>\n",
       "    <tr>\n",
       "      <th>0</th>\n",
       "      <td>life</td>\n",
       "      <td>solid cotton blend collar neck womens a-line d...</td>\n",
       "      <td>Size:Large,Medium,Small,X-Large,X-Small</td>\n",
       "      <td>1699</td>\n",
       "      <td>849</td>\n",
       "      <td>50% off</td>\n",
       "      <td>Westernwear-Women</td>\n",
       "    </tr>\n",
       "    <tr>\n",
       "      <th>1</th>\n",
       "      <td>only</td>\n",
       "      <td>polyester peter pan collar womens blouson dres...</td>\n",
       "      <td>Size:34,36,38,40</td>\n",
       "      <td>3499</td>\n",
       "      <td>2449</td>\n",
       "      <td>30% off</td>\n",
       "      <td>Westernwear-Women</td>\n",
       "    </tr>\n",
       "    <tr>\n",
       "      <th>2</th>\n",
       "      <td>fratini</td>\n",
       "      <td>solid polyester blend wide neck womens regular...</td>\n",
       "      <td>Size:Large,X-Large,XX-Large</td>\n",
       "      <td>1199</td>\n",
       "      <td>599</td>\n",
       "      <td>50% off</td>\n",
       "      <td>Westernwear-Women</td>\n",
       "    </tr>\n",
       "    <tr>\n",
       "      <th>3</th>\n",
       "      <td>zink london</td>\n",
       "      <td>stripes polyester sweetheart neck womens dress...</td>\n",
       "      <td>Size:Large,Medium,Small,X-Large</td>\n",
       "      <td>2299</td>\n",
       "      <td>1379</td>\n",
       "      <td>40% off</td>\n",
       "      <td>Westernwear-Women</td>\n",
       "    </tr>\n",
       "    <tr>\n",
       "      <th>4</th>\n",
       "      <td>life</td>\n",
       "      <td>regular fit regular length denim womens jeans ...</td>\n",
       "      <td>Size:26,28,30,32,34,36</td>\n",
       "      <td>1699</td>\n",
       "      <td>849</td>\n",
       "      <td>50% off</td>\n",
       "      <td>Westernwear-Women</td>\n",
       "    </tr>\n",
       "    <tr>\n",
       "      <th>5</th>\n",
       "      <td>kraus</td>\n",
       "      <td>wide ankle length cotton womens jeans - light ...</td>\n",
       "      <td>Size:26,28,30,32,34</td>\n",
       "      <td>1795</td>\n",
       "      <td>1615</td>\n",
       "      <td>10% off</td>\n",
       "      <td>Westernwear-Women</td>\n",
       "    </tr>\n",
       "    <tr>\n",
       "      <th>6</th>\n",
       "      <td>life</td>\n",
       "      <td>printed cotton blend collared womens regular d...</td>\n",
       "      <td>Size:Large,Medium,Small,X-Large,X-Small</td>\n",
       "      <td>1299</td>\n",
       "      <td>649</td>\n",
       "      <td>50% off</td>\n",
       "      <td>Westernwear-Women</td>\n",
       "    </tr>\n",
       "    <tr>\n",
       "      <th>7</th>\n",
       "      <td>fratini</td>\n",
       "      <td>embroidered wide neck polyester womens regular...</td>\n",
       "      <td>Size:XX-Large</td>\n",
       "      <td>1299</td>\n",
       "      <td>649</td>\n",
       "      <td>50% off</td>\n",
       "      <td>Westernwear-Women</td>\n",
       "    </tr>\n",
       "    <tr>\n",
       "      <th>8</th>\n",
       "      <td>rare</td>\n",
       "      <td>floral polyester v neck womens flared dress - ...</td>\n",
       "      <td>Size:Large,Medium,Small,X-Large</td>\n",
       "      <td>2099</td>\n",
       "      <td>839</td>\n",
       "      <td>60% off</td>\n",
       "      <td>Westernwear-Women</td>\n",
       "    </tr>\n",
       "    <tr>\n",
       "      <th>9</th>\n",
       "      <td>rare</td>\n",
       "      <td>checks cotton boat neck womens regular top - b...</td>\n",
       "      <td>Size:Medium,Small,X-Large</td>\n",
       "      <td>1499</td>\n",
       "      <td>599</td>\n",
       "      <td>60% off</td>\n",
       "      <td>Westernwear-Women</td>\n",
       "    </tr>\n",
       "  </tbody>\n",
       "</table>\n",
       "</div>"
      ],
      "text/plain": [
       "     BrandName                                            Deatils  \\\n",
       "0         life  solid cotton blend collar neck womens a-line d...   \n",
       "1         only  polyester peter pan collar womens blouson dres...   \n",
       "2      fratini  solid polyester blend wide neck womens regular...   \n",
       "3  zink london  stripes polyester sweetheart neck womens dress...   \n",
       "4         life  regular fit regular length denim womens jeans ...   \n",
       "5        kraus  wide ankle length cotton womens jeans - light ...   \n",
       "6         life  printed cotton blend collared womens regular d...   \n",
       "7      fratini  embroidered wide neck polyester womens regular...   \n",
       "8         rare  floral polyester v neck womens flared dress - ...   \n",
       "9         rare  checks cotton boat neck womens regular top - b...   \n",
       "\n",
       "                                     Sizes   MRP SellPrice Discount  \\\n",
       "0  Size:Large,Medium,Small,X-Large,X-Small  1699       849  50% off   \n",
       "1                         Size:34,36,38,40  3499      2449  30% off   \n",
       "2              Size:Large,X-Large,XX-Large  1199       599  50% off   \n",
       "3          Size:Large,Medium,Small,X-Large  2299      1379  40% off   \n",
       "4                   Size:26,28,30,32,34,36  1699       849  50% off   \n",
       "5                      Size:26,28,30,32,34  1795      1615  10% off   \n",
       "6  Size:Large,Medium,Small,X-Large,X-Small  1299       649  50% off   \n",
       "7                            Size:XX-Large  1299       649  50% off   \n",
       "8          Size:Large,Medium,Small,X-Large  2099       839  60% off   \n",
       "9                Size:Medium,Small,X-Large  1499       599  60% off   \n",
       "\n",
       "            Category  \n",
       "0  Westernwear-Women  \n",
       "1  Westernwear-Women  \n",
       "2  Westernwear-Women  \n",
       "3  Westernwear-Women  \n",
       "4  Westernwear-Women  \n",
       "5  Westernwear-Women  \n",
       "6  Westernwear-Women  \n",
       "7  Westernwear-Women  \n",
       "8  Westernwear-Women  \n",
       "9  Westernwear-Women  "
      ]
     },
     "execution_count": 14,
     "metadata": {},
     "output_type": "execute_result"
    }
   ],
   "source": [
    "data['MRP']=data['MRP'].str.replace('Rs\\n','')\n",
    "data.head(10)"
   ]
  },
  {
   "cell_type": "code",
   "execution_count": 18,
   "id": "6f2163d3",
   "metadata": {},
   "outputs": [],
   "source": [
    "data.replace('Nan',np.nan,inplace=True)\n",
    "data.dropna(axis=0,inplace=True)"
   ]
  },
  {
   "cell_type": "code",
   "execution_count": null,
   "id": "3776e83a",
   "metadata": {},
   "outputs": [],
   "source": [
    "#Statistical Analysis Of Data"
   ]
  },
  {
   "cell_type": "code",
   "execution_count": 19,
   "id": "f9de001d",
   "metadata": {},
   "outputs": [
    {
     "data": {
      "text/html": [
       "<div>\n",
       "<style scoped>\n",
       "    .dataframe tbody tr th:only-of-type {\n",
       "        vertical-align: middle;\n",
       "    }\n",
       "\n",
       "    .dataframe tbody tr th {\n",
       "        vertical-align: top;\n",
       "    }\n",
       "\n",
       "    .dataframe thead th {\n",
       "        text-align: right;\n",
       "    }\n",
       "</style>\n",
       "<table border=\"1\" class=\"dataframe\">\n",
       "  <thead>\n",
       "    <tr style=\"text-align: right;\">\n",
       "      <th></th>\n",
       "      <th>MRP</th>\n",
       "      <th>SellPrice</th>\n",
       "    </tr>\n",
       "  </thead>\n",
       "  <tbody>\n",
       "    <tr>\n",
       "      <th>count</th>\n",
       "      <td>18374.000000</td>\n",
       "      <td>18374.000000</td>\n",
       "    </tr>\n",
       "    <tr>\n",
       "      <th>mean</th>\n",
       "      <td>2136.928704</td>\n",
       "      <td>1163.798846</td>\n",
       "    </tr>\n",
       "    <tr>\n",
       "      <th>std</th>\n",
       "      <td>1189.416850</td>\n",
       "      <td>744.201506</td>\n",
       "    </tr>\n",
       "    <tr>\n",
       "      <th>min</th>\n",
       "      <td>171.000000</td>\n",
       "      <td>114.000000</td>\n",
       "    </tr>\n",
       "    <tr>\n",
       "      <th>25%</th>\n",
       "      <td>1299.000000</td>\n",
       "      <td>659.000000</td>\n",
       "    </tr>\n",
       "    <tr>\n",
       "      <th>50%</th>\n",
       "      <td>1899.000000</td>\n",
       "      <td>995.000000</td>\n",
       "    </tr>\n",
       "    <tr>\n",
       "      <th>75%</th>\n",
       "      <td>2663.000000</td>\n",
       "      <td>1469.000000</td>\n",
       "    </tr>\n",
       "    <tr>\n",
       "      <th>max</th>\n",
       "      <td>16999.000000</td>\n",
       "      <td>13599.000000</td>\n",
       "    </tr>\n",
       "  </tbody>\n",
       "</table>\n",
       "</div>"
      ],
      "text/plain": [
       "                MRP     SellPrice\n",
       "count  18374.000000  18374.000000\n",
       "mean    2136.928704   1163.798846\n",
       "std     1189.416850    744.201506\n",
       "min      171.000000    114.000000\n",
       "25%     1299.000000    659.000000\n",
       "50%     1899.000000    995.000000\n",
       "75%     2663.000000   1469.000000\n",
       "max    16999.000000  13599.000000"
      ]
     },
     "execution_count": 19,
     "metadata": {},
     "output_type": "execute_result"
    }
   ],
   "source": [
    "data['MRP']=data['MRP'].astype(int)\n",
    "data['SellPrice']=data['SellPrice'].astype(int)\n",
    "data.describe()"
   ]
  },
  {
   "cell_type": "code",
   "execution_count": null,
   "id": "f7f4c2db",
   "metadata": {},
   "outputs": [],
   "source": [
    "#Display Category Plot"
   ]
  },
  {
   "cell_type": "code",
   "execution_count": 25,
   "id": "503611f6",
   "metadata": {},
   "outputs": [
    {
     "data": {
      "text/plain": [
       "<AxesSubplot:>"
      ]
     },
     "execution_count": 25,
     "metadata": {},
     "output_type": "execute_result"
    },
    {
     "data": {
      "image/png": "[encoded data removed]",
      "text/plain": [
       "<Figure size 432x288 with 1 Axes>"
      ]
     },
     "metadata": {
      "needs_background": "light"
     },
     "output_type": "display_data"
    }
   ],
   "source": [
    "data['Category'].value_counts().plot(kind='bar')"
   ]
  },
  {
   "cell_type": "code",
   "execution_count": null,
   "id": "1dc87195",
   "metadata": {},
   "outputs": [],
   "source": [
    "#Display Discount Plot"
   ]
  },
  {
   "cell_type": "code",
   "execution_count": 29,
   "id": "4ddc3c53",
   "metadata": {},
   "outputs": [
    {
     "data": {
      "text/plain": [
       "<AxesSubplot:>"
      ]
     },
     "execution_count": 29,
     "metadata": {},
     "output_type": "execute_result"
    },
    {
     "data": {
      "image/png": "[encoded data removed]",
      "text/plain": [
       "<Figure size 432x288 with 1 Axes>"
      ]
     },
     "metadata": {
      "needs_background": "light"
     },
     "output_type": "display_data"
    }
   ],
   "source": [
    "data['Discount'].value_counts().head(10).plot(kind='bar')"
   ]
  },
  {
   "cell_type": "code",
   "execution_count": null,
   "id": "b8de1bd2",
   "metadata": {},
   "outputs": [],
   "source": [
    "#Display Size plot"
   ]
  },
  {
   "cell_type": "code",
   "execution_count": 30,
   "id": "2b958f11",
   "metadata": {},
   "outputs": [
    {
     "data": {
      "text/plain": [
       "<AxesSubplot:>"
      ]
     },
     "execution_count": 30,
     "metadata": {},
     "output_type": "execute_result"
    },
    {
     "data": {
      "image/png": "[encoded data removed]",
      "text/plain": [
       "<Figure size 432x288 with 1 Axes>"
      ]
     },
     "metadata": {
      "needs_background": "light"
     },
     "output_type": "display_data"
    }
   ],
   "source": [
    "data['Sizes'].value_counts().head(10).plot(kind='bar')"
   ]
  },
  {
   "cell_type": "code",
   "execution_count": null,
   "id": "4fc13624",
   "metadata": {},
   "outputs": [],
   "source": [
    "#High Selling Price of Top 10 Records"
   ]
  },
  {
   "cell_type": "code",
   "execution_count": 31,
   "id": "0bb9c671",
   "metadata": {},
   "outputs": [
    {
     "data": {
      "text/html": [
       "<div>\n",
       "<style scoped>\n",
       "    .dataframe tbody tr th:only-of-type {\n",
       "        vertical-align: middle;\n",
       "    }\n",
       "\n",
       "    .dataframe tbody tr th {\n",
       "        vertical-align: top;\n",
       "    }\n",
       "\n",
       "    .dataframe thead th {\n",
       "        text-align: right;\n",
       "    }\n",
       "</style>\n",
       "<table border=\"1\" class=\"dataframe\">\n",
       "  <thead>\n",
       "    <tr style=\"text-align: right;\">\n",
       "      <th></th>\n",
       "      <th>BrandName</th>\n",
       "      <th>SellPrice</th>\n",
       "      <th>Category</th>\n",
       "    </tr>\n",
       "  </thead>\n",
       "  <tbody>\n",
       "    <tr>\n",
       "      <th>15744</th>\n",
       "      <td>global desi</td>\n",
       "      <td>13599</td>\n",
       "      <td>Indianwear-Women</td>\n",
       "    </tr>\n",
       "    <tr>\n",
       "      <th>14154</th>\n",
       "      <td>global desi</td>\n",
       "      <td>12799</td>\n",
       "      <td>Indianwear-Women</td>\n",
       "    </tr>\n",
       "    <tr>\n",
       "      <th>18629</th>\n",
       "      <td>w</td>\n",
       "      <td>7499</td>\n",
       "      <td>Indianwear-Women</td>\n",
       "    </tr>\n",
       "    <tr>\n",
       "      <th>24281</th>\n",
       "      <td>new balance</td>\n",
       "      <td>6999</td>\n",
       "      <td>Footwear-Women</td>\n",
       "    </tr>\n",
       "    <tr>\n",
       "      <th>24641</th>\n",
       "      <td>new balance</td>\n",
       "      <td>6999</td>\n",
       "      <td>Footwear-Women</td>\n",
       "    </tr>\n",
       "    <tr>\n",
       "      <th>25635</th>\n",
       "      <td>new balance</td>\n",
       "      <td>6999</td>\n",
       "      <td>Footwear-Women</td>\n",
       "    </tr>\n",
       "    <tr>\n",
       "      <th>24742</th>\n",
       "      <td>new balance</td>\n",
       "      <td>6999</td>\n",
       "      <td>Footwear-Women</td>\n",
       "    </tr>\n",
       "    <tr>\n",
       "      <th>14053</th>\n",
       "      <td>w</td>\n",
       "      <td>6749</td>\n",
       "      <td>Indianwear-Women</td>\n",
       "    </tr>\n",
       "    <tr>\n",
       "      <th>16718</th>\n",
       "      <td>w</td>\n",
       "      <td>6749</td>\n",
       "      <td>Indianwear-Women</td>\n",
       "    </tr>\n",
       "    <tr>\n",
       "      <th>15053</th>\n",
       "      <td>w</td>\n",
       "      <td>6749</td>\n",
       "      <td>Indianwear-Women</td>\n",
       "    </tr>\n",
       "  </tbody>\n",
       "</table>\n",
       "</div>"
      ],
      "text/plain": [
       "         BrandName  SellPrice          Category\n",
       "15744  global desi      13599  Indianwear-Women\n",
       "14154  global desi      12799  Indianwear-Women\n",
       "18629            w       7499  Indianwear-Women\n",
       "24281  new balance       6999    Footwear-Women\n",
       "24641  new balance       6999    Footwear-Women\n",
       "25635  new balance       6999    Footwear-Women\n",
       "24742  new balance       6999    Footwear-Women\n",
       "14053            w       6749  Indianwear-Women\n",
       "16718            w       6749  Indianwear-Women\n",
       "15053            w       6749  Indianwear-Women"
      ]
     },
     "execution_count": 31,
     "metadata": {},
     "output_type": "execute_result"
    }
   ],
   "source": [
    "high_selling_price = data[['BrandName','SellPrice','Category']].sort_values(by='SellPrice',ascending=False).head(10)\n",
    "high_selling_price"
   ]
  },
  {
   "cell_type": "code",
   "execution_count": null,
   "id": "32601d4f",
   "metadata": {},
   "outputs": [],
   "source": [
    "#Display The Outliers"
   ]
  },
  {
   "cell_type": "code",
   "execution_count": 37,
   "id": "14aa81aa",
   "metadata": {},
   "outputs": [
    {
     "data": {
      "text/plain": [
       "<AxesSubplot:>"
      ]
     },
     "execution_count": 37,
     "metadata": {},
     "output_type": "execute_result"
    },
    {
     "data": {
      "image/png": "[encoded data removed]",
      "text/plain": [
       "<Figure size 1440x1440 with 1 Axes>"
      ]
     },
     "metadata": {
      "needs_background": "light"
     },
     "output_type": "display_data"
    }
   ],
   "source": [
    "fig,ax,=plt.subplots(figsize=(20,20))\n",
    "sns.boxplot(data=data,ax=ax)"
   ]
  },
  {
   "cell_type": "code",
   "execution_count": 40,
   "id": "1bc12e33",
   "metadata": {},
   "outputs": [
    {
     "data": {
      "text/plain": [
       "<seaborn.axisgrid.FacetGrid at 0x1ec301abe50>"
      ]
     },
     "execution_count": 40,
     "metadata": {},
     "output_type": "execute_result"
    },
    {
     "data": {
      "image/png": "[encoded data removed]",
      "text/plain": [
       "<Figure size 360x360 with 1 Axes>"
      ]
     },
     "metadata": {
      "needs_background": "light"
     },
     "output_type": "display_data"
    }
   ],
   "source": [
    "sns.displot(x=data.MRP)"
   ]
  }
 ],
 "metadata": {
  "kernelspec": {
   "display_name": "Python 3 (ipykernel)",
   "language": "python",
   "name": "python3"
  },
  "language_info": {
   "codemirror_mode": {
    "name": "ipython",
    "version": 3
   },
   "file_extension": ".py",
   "mimetype": "text/x-python",
   "name": "python",
   "nbconvert_exporter": "python",
   "pygments_lexer": "ipython3",
   "version": "3.9.12"
  }
 },
 "nbformat": 4,
 "nbformat_minor": 5
}
